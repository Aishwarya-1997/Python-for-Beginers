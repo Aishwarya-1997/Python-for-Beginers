{
 "cells": [
  {
   "cell_type": "code",
   "execution_count": 3,
   "metadata": {},
   "outputs": [
    {
     "name": "stdout",
     "output_type": "stream",
     "text": [
      "Sorted character array is Tahknouy\n"
     ]
    }
   ],
   "source": [
    "def countSort(arr): \n",
    "  \n",
    "    # The output character array that will have sorted arr \n",
    "    output = [0 for i in range(256)] \n",
    "  \n",
    "    # Create a count array to store count of inidividul \n",
    "    # characters and initialize count array as 0 \n",
    "    count = [0 for i in range(256)] \n",
    "  \n",
    "    # For storing the resulting answer since the  \n",
    "    # string is immutable \n",
    "    ans = [\"\" for _ in arr] \n",
    "  \n",
    "    # Store count of each character \n",
    "    for i in arr: \n",
    "        count[ord(i)] += 1\n",
    "  \n",
    "    # Change count[i] so that count[i] now contains actual \n",
    "    # position of this character in output array \n",
    "    for i in range(256): \n",
    "        count[i] += count[i-1] \n",
    "  \n",
    "    # Build the output character array \n",
    "    for i in range(len(arr)): \n",
    "        output[count[ord(arr[i])]-1] = arr[i] \n",
    "        count[ord(arr[i])] -= 1\n",
    "  \n",
    "    # Copy the output array to arr, so that arr now \n",
    "    # contains sorted characters \n",
    "    for i in range(len(arr)): \n",
    "        ans[i] = output[i] \n",
    "    return ans  \n",
    "  \n",
    "# Driver program to test above function \n",
    "arr = \"Thankyou\"\n",
    "ans = countSort(arr) \n",
    "print(\"Sorted character array is %s\"  %(\"\".join(ans)) )"
   ]
  },
  {
   "cell_type": "code",
   "execution_count": null,
   "metadata": {},
   "outputs": [],
   "source": []
  }
 ],
 "metadata": {
  "kernelspec": {
   "display_name": "Python 3",
   "language": "python",
   "name": "python3"
  },
  "language_info": {
   "codemirror_mode": {
    "name": "ipython",
    "version": 3
   },
   "file_extension": ".py",
   "mimetype": "text/x-python",
   "name": "python",
   "nbconvert_exporter": "python",
   "pygments_lexer": "ipython3",
   "version": "3.8.3"
  }
 },
 "nbformat": 4,
 "nbformat_minor": 4
}
