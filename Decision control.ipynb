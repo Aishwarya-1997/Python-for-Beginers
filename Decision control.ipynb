{
 "cells": [
  {
   "cell_type": "code",
   "execution_count": null,
   "metadata": {},
   "outputs": [],
   "source": [
    "#if statement\n",
    "x=int(input(\"Enter a number:\"))\n",
    "if x>0:\n",
    "    print(\"%d is positive\"%x)\n",
    "if x<=0:\n",
    "    print(\"%d is non positive\"%x)\n",
    "    print(\"This line is in if block\")\n",
    "print(\"outside the block\")"
   ]
  },
  {
   "cell_type": "code",
   "execution_count": null,
   "metadata": {},
   "outputs": [],
   "source": [
    "#if else statement\n",
    "x=int(input(\"Enter a number:\"))\n",
    "if x>0:\n",
    "    print(\"%d is positive\"%x)\n",
    "else:\n",
    "     print(\"%d is non positive\"%x)\n",
    "\n",
    "print(\"outside the block\")"
   ]
  },
  {
   "cell_type": "code",
   "execution_count": null,
   "metadata": {},
   "outputs": [],
   "source": [
    "#if elif statement also check given no is positive,negative and zero\n",
    "x=int(input(\"Enter a number:\"))\n",
    "if x>0:\n",
    "    print(\"%d is positive\"%x)\n",
    "elif x<0:\n",
    "     print(\"%d is negative\"%x)\n",
    "else:\n",
    "    print(\"%d is zer0\"%x)\n",
    "\n",
    "print(\"outside the block\")"
   ]
  },
  {
   "cell_type": "code",
   "execution_count": null,
   "metadata": {},
   "outputs": [],
   "source": [
    "#check given no is even or add\n",
    "x=int(input(\"Enter a number:\"))\n",
    "if x%2==0:\n",
    "    print(\"Entered no %d is even\"%x)\n",
    "else:\n",
    "    print(\"Entered no %d is odd\"%x)"
   ]
  },
  {
   "cell_type": "code",
   "execution_count": null,
   "metadata": {},
   "outputs": [],
   "source": [
    "#divisible by 5 or not\n",
    "x=int(input(\"Enter a number:\"))\n",
    "if x%5==0:\n",
    "    print(\"Entered no %d is divisble by 5\"%x)\n",
    "else:\n",
    "    print(\"Entered no %d is not divisible by 5\"%x)"
   ]
  },
  {
   "cell_type": "code",
   "execution_count": null,
   "metadata": {},
   "outputs": [],
   "source": [
    "#find greatest among the three no\n",
    "print(\"Enter a three  numbers:\")\n",
    "a,b,c=int(input()),int(input()),int(input())\n",
    "if a>b:\n",
    "    if a>c:\n",
    "        print(\"Greatest is\",a)\n",
    "    else:\n",
    "        print(\"Gretest is c\",c)\n",
    "else:\n",
    "    if b>c:\n",
    "        print(\"Greatest is b\",b)\n",
    "    else:\n",
    "        print(\"greatest is c\",c)\n",
    "\n"
   ]
  },
  {
   "cell_type": "code",
   "execution_count": null,
   "metadata": {},
   "outputs": [],
   "source": [
    "#check given year is leap or not\n",
    "x=int(input(\"Enter an year: \"))\n",
    "result=\"Leap year\" if x%400==0 else \"leap year\" if x%4==0 and x%100!=0 else \"Non leap year\"\n",
    "print(result)"
   ]
  },
  {
   "cell_type": "code",
   "execution_count": null,
   "metadata": {},
   "outputs": [],
   "source": [
    "#take month value from the user in numeric format and display no. of days i it.\n",
    "month=int(input(\"Enter month number:\"))\n",
    "if month==2:\n",
    "    print(\"28 or 29 days\")\n",
    "elif month==4 or month==6 or month==9 or month==11:\n",
    "    print(\"30 days\")\n",
    "elif month>12 or month<1:\n",
    "    print(\"invalid month number\")\n",
    "else:\n",
    "    print(\"31 days\")"
   ]
  },
  {
   "cell_type": "code",
   "execution_count": null,
   "metadata": {},
   "outputs": [],
   "source": [
    "#take month value from the user in numeric format and display no. of days in it using LIST.\n",
    "month=int(input(\"Enter month number:\"))\n",
    "l1=[4,6,9,11]\n",
    "l2=[1,3,5,7,8,10,12]\n",
    "if month==2:\n",
    "    print(\"28 or 29 days\")\n",
    "elif month in l1:\n",
    "    print(\"30 days\")\n",
    "elif month in l2:\n",
    "    print(\"31 days\")\n",
    "else:\n",
    "    print(\"Invalid month number\")"
   ]
  },
  {
   "cell_type": "code",
   "execution_count": null,
   "metadata": {},
   "outputs": [],
   "source": [
    "#Ternary Operator\n",
    "print(\"Hello\" if True else \"Bye\")\n",
    "print(\"Hello\" if False else \"Bye\")\n",
    "print(\"Hello\" if 4<3 else \"Bye\")"
   ]
  },
  {
   "cell_type": "code",
   "execution_count": null,
   "metadata": {},
   "outputs": [],
   "source": [
    "x=int(input(\"Enter first number:\"))\n",
    "y=int(input(\"Enter second number:\"))\n",
    "z=x if x>y else y\n",
    "print(\"Greates value is z\",z)"
   ]
  },
  {
   "cell_type": "code",
   "execution_count": null,
   "metadata": {},
   "outputs": [],
   "source": [
    "#Check nature of roots of given quadratic\n",
    "print(\"Enter value of a,b,c\")\n",
    "a,b,c=int(input()),int(input()),int(input())\n",
    "D=b**2-4*a*c\n",
    "if D>0:\n",
    "    print(\"Real and distinct root\")\n",
    "elif D==0:\n",
    "    print(\"Real and equal roots\")\n",
    "else:\n",
    "    print(\"Roots are imaginary\")"
   ]
  },
  {
   "cell_type": "code",
   "execution_count": null,
   "metadata": {},
   "outputs": [],
   "source": [
    "#Arrange three words in dictionay order\n",
    "print(\"Enter three city name\")\n",
    "a,b,c=input(),input(),input()\n",
    "if a<b<c:\n",
    "    print(a,b,c)\n",
    "elif a<c<b:\n",
    "    print(a,c,b)\n",
    "elif b<c<a:\n",
    "    print(b,c,a)\n",
    "elif b<a<c:\n",
    "    print(b,a,c)\n",
    "elif c<a<b:\n",
    "    print(c,a,b)\n",
    "else:\n",
    "    print(c,b,a)"
   ]
  },
  {
   "cell_type": "code",
   "execution_count": null,
   "metadata": {},
   "outputs": [],
   "source": [
    "#Arrange three words in dictionay order\n",
    "print(\"Enter three city name\")\n",
    "a,b,c=input(),input(),input()\n",
    "x=min(a,b,c)\n",
    "print(x)\n",
    "if x==a:\n",
    "    print(min(b,c),max(b,c))\n",
    "elif x==b:\n",
    "    print(min(a,c),max(a,c))"
   ]
  },
  {
   "cell_type": "code",
   "execution_count": null,
   "metadata": {},
   "outputs": [],
   "source": [
    "[x for x in sorted(input(\"Enter comma seperated three city names\").split(',')) if print(x, end=' ')]"
   ]
  },
  {
   "cell_type": "code",
   "execution_count": null,
   "metadata": {},
   "outputs": [],
   "source": [
    "#greater between real and imaginary part of a complex number\n",
    "c=complex(input(\"Enter a complex number\"))\n",
    "if c.real>c.imag:\n",
    "    print(\"%d is greater\"%(c.real))\n",
    "elif c.real<c.imag:\n",
    "    print(\"%d is greater\"%(c.imag))\n",
    "else:\n",
    "    print(\"Both are equal\")"
   ]
  },
  {
   "cell_type": "code",
   "execution_count": null,
   "metadata": {},
   "outputs": [],
   "source": [
    "#WHILE LOOP\n",
    "x=1\n",
    "while x<=5:\n",
    "    print(\"Hello Indra Kishore\")\n",
    "    x+=1"
   ]
  },
  {
   "cell_type": "code",
   "execution_count": null,
   "metadata": {},
   "outputs": [],
   "source": []
  },
  {
   "cell_type": "code",
   "execution_count": null,
   "metadata": {},
   "outputs": [],
   "source": [
    "#print 1st 10 natural number\n",
    "x=1\n",
    "while x<=10:\n",
    "    print(x)\n",
    "    x=x+1\n"
   ]
  },
  {
   "cell_type": "code",
   "execution_count": null,
   "metadata": {},
   "outputs": [],
   "source": [
    "#print 1st 10 natural number in reverse order\n",
    "x=10\n",
    "while x>=1:\n",
    "    print(x)\n",
    "    x=x-1\n",
    "print(x)\n"
   ]
  },
  {
   "cell_type": "code",
   "execution_count": null,
   "metadata": {},
   "outputs": [],
   "source": [
    "#print first 10 odd natural number\n",
    "x=1\n",
    "while x<19:\n",
    "    print(x)\n",
    "    x=x+2\n",
    "print(x)"
   ]
  },
  {
   "cell_type": "code",
   "execution_count": null,
   "metadata": {},
   "outputs": [],
   "source": [
    "#print first 10 even natural number\n",
    "x=2\n",
    "while x<20:\n",
    "    print(x)\n",
    "    x=x+2\n",
    "print(x)"
   ]
  },
  {
   "cell_type": "code",
   "execution_count": null,
   "metadata": {},
   "outputs": [],
   "source": [
    "#print first n natural number\n",
    "n=int(input(\"Enter a number:\"))\n",
    "i=1\n",
    "while i<=n:\n",
    "    print(i,end=' ')\n",
    "    i+=1"
   ]
  },
  {
   "cell_type": "code",
   "execution_count": null,
   "metadata": {},
   "outputs": [],
   "source": [
    "#print first n natural number using for loop\n",
    "n=int(input(\"Enter a number:\"))\n",
    "for i in range(1,n+1):\n",
    "    print(i,end=' ')\n",
    "    "
   ]
  },
  {
   "cell_type": "code",
   "execution_count": null,
   "metadata": {},
   "outputs": [],
   "source": [
    "#print first n natural number\n",
    "n=int(input(\"Enter a number:\"))\n",
    "while n:\n",
    "    print(n,end=',')\n",
    "    n-=1"
   ]
  },
  {
   "cell_type": "code",
   "execution_count": null,
   "metadata": {},
   "outputs": [],
   "source": [
    "#print first n natural number\n",
    "n=int(input(\"Enter a number:\"))\n",
    "i=1\n",
    "while i<=n:\n",
    "    print(n-i+1,end=' ')\n",
    "    i+=1"
   ]
  },
  {
   "cell_type": "code",
   "execution_count": null,
   "metadata": {},
   "outputs": [],
   "source": [
    "#print first n natural number using for loop\n",
    "n=int(input(\"Enter a number:\"))\n",
    "for i in range(n,0,-1):\n",
    "    print(i,end=' ')"
   ]
  },
  {
   "cell_type": "code",
   "execution_count": null,
   "metadata": {},
   "outputs": [],
   "source": [
    "#print sum of first n natural nu\n",
    "n=int(input(\"Enter a natural number:\"))\n",
    "sum=n*(n+1)/2\n",
    "print(\"sum is %d\"%sum)"
   ]
  },
  {
   "cell_type": "code",
   "execution_count": null,
   "metadata": {},
   "outputs": [],
   "source": [
    "#print sum of first n natural nu\n",
    "n=int(input(\"Enter a natural number:\"))\n",
    "s,i=0,1\n",
    "while i<=n:\n",
    "    s=s+i\n",
    "    i+=1\n",
    "print('sum is',s)"
   ]
  },
  {
   "cell_type": "code",
   "execution_count": null,
   "metadata": {},
   "outputs": [],
   "source": [
    "#print sum of first n odd natural number\n",
    "n=int(input(\"Enter a natural number:\"))\n",
    "s,i=0,1\n",
    "while i<=n:\n",
    "    s=s+i\n",
    "    i+=1\n",
    "print('sum is',s)\n"
   ]
  },
  {
   "cell_type": "code",
   "execution_count": null,
   "metadata": {},
   "outputs": [],
   "source": [
    "#intro of For loop\n",
    "#count no of a in a string\n",
    "x=input(\"Enter your name:\")\n",
    "count=0\n",
    "for e in x:\n",
    "    if e=='a':\n",
    "        count+=1\n",
    "print(\"count = \",count)\n",
    "    "
   ]
  },
  {
   "cell_type": "code",
   "execution_count": null,
   "metadata": {},
   "outputs": [],
   "source": []
  },
  {
   "cell_type": "code",
   "execution_count": null,
   "metadata": {},
   "outputs": [],
   "source": [
    "#RANGE\n",
    "# syntax range(start,stop,step) where by deault value of start,step is 0,1 and stop is always excluded\n",
    "range(5,10)\n",
    "for x in range(5,10):\n",
    "    print(x)\n",
    "\n"
   ]
  },
  {
   "cell_type": "code",
   "execution_count": null,
   "metadata": {},
   "outputs": [],
   "source": [
    "#it is not correct\n",
    "#for x in range(10,5):\n",
    "    #print(x)\n",
    "for x in range(10,5,-1):\n",
    "    print(x)"
   ]
  },
  {
   "cell_type": "code",
   "execution_count": null,
   "metadata": {},
   "outputs": [],
   "source": [
    "for x in range(1,20,5):\n",
    "    print(x)"
   ]
  },
  {
   "cell_type": "code",
   "execution_count": null,
   "metadata": {},
   "outputs": [],
   "source": [
    "#check for a prime number\n",
    "n=int(input(\"Enter a number\"))\n",
    "if n<2:\n",
    "    print(\"Not a prime number\")\n",
    "else:\n",
    "    for i in range(2,n):\n",
    "        if n%i==0:\n",
    "            print(\"Not a prime:\")\n",
    "            break\n",
    "    else:\n",
    "        print(\"Number is prime\")"
   ]
  },
  {
   "cell_type": "code",
   "execution_count": null,
   "metadata": {},
   "outputs": [],
   "source": [
    "#find next prime number of a given number\n",
    "n=int(input(\"Enter a number\"))\n",
    "x=n+1\n",
    "while True:\n",
    "    for i in range(2,x):\n",
    "        if x%i==0:\n",
    "            break\n",
    "    else:\n",
    "        print(\"Next prime is\",x)\n",
    "        break\n",
    "    x+=1"
   ]
  },
  {
   "cell_type": "code",
   "execution_count": null,
   "metadata": {},
   "outputs": [],
   "source": [
    "#To print first n prime number\n",
    "n=int(input(\"Enter a natural number\"))\n",
    "x=2\n",
    "while n:\n",
    "    for i in range(2,x):\n",
    "        if x%i==0:\n",
    "            break\n",
    "    else:\n",
    "        print(x,end= ' ')\n",
    "        n-=1\n",
    "    x+=1"
   ]
  },
  {
   "cell_type": "code",
   "execution_count": null,
   "metadata": {},
   "outputs": [],
   "source": [
    "#to check coprime no\n",
    "#no common factor other than 1, HCF(a,b)=1\n",
    "print(\"Enter two numbers\")\n",
    "a,b=int(input()),int(input())\n",
    "H=min(a,b)\n",
    "while H>=1:\n",
    "    if a%H==0 and b%H==0:\n",
    "        if H==1:\n",
    "            print(\"Co prime numbers\")\n",
    "        else:\n",
    "            print(\"Not a coprime numbers\")\n",
    "        break\n",
    "    H-=1\n"
   ]
  },
  {
   "cell_type": "code",
   "execution_count": null,
   "metadata": {},
   "outputs": [],
   "source": [
    "#print first n odd natural number in reverse order\n",
    "n=int(input(\"Enter a natural number:\"))\n",
    "for i in range(1,n+1):\n",
    "    print(2*n-2*i+1,end=\" \")"
   ]
  },
  {
   "cell_type": "code",
   "execution_count": null,
   "metadata": {},
   "outputs": [],
   "source": [
    "#print first n odd natural number in reverse order\n",
    "n=int(input(\"Enter a natural number:\"))\n",
    "for i in range(2*n-1,0,-2):\n",
    "    print(i,end=\" \")"
   ]
  },
  {
   "cell_type": "code",
   "execution_count": null,
   "metadata": {},
   "outputs": [],
   "source": [
    "#print first n even natural number in reverse order\n",
    "n=int(input(\"Enter a natural number:\"))\n",
    "for i in range(2*n,0,-2):\n",
    "    print(i,end=\" \")"
   ]
  },
  {
   "cell_type": "code",
   "execution_count": null,
   "metadata": {},
   "outputs": [],
   "source": [
    "#To print all prime factors of a given number\n",
    "#36=2,2,3,3\n",
    "n=int(input(\"Enter a number\"))\n",
    "x=n\n",
    "p=2\n",
    "while x>1:\n",
    "    while x%p==0:\n",
    "        print(p,end=' ')\n",
    "        x//=p\n",
    "    p=p+1\n",
    "    while True:\n",
    "        for i in range(2,p):\n",
    "            if p%i==0:\n",
    "                p=p+1\n",
    "                break\n",
    "        else:\n",
    "                break\n",
    "        "
   ]
  },
  {
   "cell_type": "code",
   "execution_count": null,
   "metadata": {},
   "outputs": [],
   "source": [
    "#LCM of two number\n",
    "print(\"Enter two numbers\")\n",
    "a,b=int(input()),int(input())\n",
    "l=max(a,b)\n",
    "while l<=a*b:\n",
    "    if l%a==0 and l%b==0:\n",
    "        print(\"LCM is\",l)\n",
    "        break\n",
    "    l+=1"
   ]
  },
  {
   "cell_type": "code",
   "execution_count": null,
   "metadata": {},
   "outputs": [],
   "source": [
    "#HCH of two number\n",
    "print(\"Enter two numbers\")\n",
    "a,b=int(input()),int(input())\n",
    "H=min(a,b)\n",
    "while H>=1:\n",
    "    if a%H==0 and b%H==0:\n",
    "        print(\"HCF is\",H)\n",
    "        break\n",
    "    H-=1"
   ]
  },
  {
   "cell_type": "code",
   "execution_count": null,
   "metadata": {},
   "outputs": [],
   "source": [
    "#print table of 5\n",
    "for i in range(1,11):\n",
    "    #print(5,\"X\",i,\"=\",i*5)\n",
    "    print(\"5 X %d = %d \"%(i,i*5))"
   ]
  },
  {
   "cell_type": "code",
   "execution_count": null,
   "metadata": {},
   "outputs": [],
   "source": [
    "#print table of user choice\n",
    "n=int(input(\"Enter a number\"))\n",
    "for i in range (1,11):\n",
    "    #print(n,\"X\",i,\"=\",i*n)\n",
    "    print(\"%d X %d = %d \" %(n,i,n*i))\n"
   ]
  },
  {
   "cell_type": "code",
   "execution_count": null,
   "metadata": {},
   "outputs": [],
   "source": [
    "#print all armstrong number under 1000\n",
    "#251!=2**3+5**3+1**3 not armstrong number\n",
    "for x in range(1,1001):\n",
    "    n=x\n",
    "    s=0\n",
    "    while x:\n",
    "        r=x%10\n",
    "        s=s+r**3\n",
    "        x=x//10\n",
    "    if s==n:\n",
    "        print(n)\n",
    "    \n"
   ]
  },
  {
   "cell_type": "code",
   "execution_count": null,
   "metadata": {},
   "outputs": [],
   "source": [
    "#print squares of number from a to b\n",
    "a=int(input(\"Enter first number:\"))\n",
    "b=int(input(\"Enter second number:\"))\n",
    "if a>b:\n",
    "    a,b=b,a\n",
    "for i in range(a,b+1):\n",
    "    print(i**2,end=\" \")\n"
   ]
  },
  {
   "cell_type": "code",
   "execution_count": null,
   "metadata": {},
   "outputs": [],
   "source": [
    "#print a sequence of numbers with given step size and boundary values\n",
    "a=int(input(\"Enter starting values:\"))\n",
    "b=int(input(\"Enter ending values:\"))\n",
    "s=int(input(\"Enter step size:\"))\n",
    "if a>b and s<0 or a<b and s>0:\n",
    "    \n",
    "    for i in range(a,b+1,s):\n",
    "        \n",
    "        print(i,end=\" \")\n",
    "else:\n",
    "    print(\"Wrong input\")"
   ]
  },
  {
   "cell_type": "code",
   "execution_count": 1,
   "metadata": {},
   "outputs": [
    {
     "name": "stdout",
     "output_type": "stream",
     "text": [
      "Hello\n",
      "Hello\n",
      "Hello\n",
      "Hello\n",
      "Hello\n"
     ]
    }
   ],
   "source": [
    "#TRANSFER STATEMENTS IN PYTHON\n",
    "x=5\n",
    "while x>0:\n",
    "    print(\"Hello\")\n",
    "    x-=1"
   ]
  },
  {
   "cell_type": "code",
   "execution_count": 3,
   "metadata": {},
   "outputs": [
    {
     "name": "stdout",
     "output_type": "stream",
     "text": [
      "Enter an even number:3\n",
      "Enter an even number:1\n",
      "Enter an even number:5\n",
      "You lost\n"
     ]
    }
   ],
   "source": [
    "#BREAK STATEMENT\n",
    "chance=1\n",
    "while chance<=3:\n",
    "    x=int(input(\"Enter an even number:\"))\n",
    "    if x%2==0:\n",
    "        break\n",
    "    chance+=1\n",
    "if chance==4:\n",
    "        print(\"You lost\")\n",
    "else:\n",
    "        print(\"You win\")\n",
    "        "
   ]
  },
  {
   "cell_type": "code",
   "execution_count": 4,
   "metadata": {},
   "outputs": [
    {
     "name": "stdout",
     "output_type": "stream",
     "text": [
      "1\n",
      "2\n",
      "3\n",
      "4\n",
      "6\n",
      "7\n",
      "8\n",
      "9\n",
      "11\n",
      "12\n",
      "13\n",
      "14\n",
      "16\n",
      "17\n",
      "18\n",
      "19\n",
      "21\n",
      "22\n",
      "23\n",
      "24\n"
     ]
    }
   ],
   "source": [
    "#CONTINUE STATEMENT\n",
    "#printing no from 1 to 24 skipping multiples of 5\n",
    "x=1\n",
    "while x<=24:\n",
    "    if x%5==0:\n",
    "        x=x+1\n",
    "        continue\n",
    "    print(x)\n",
    "    x=x+1"
   ]
  },
  {
   "cell_type": "code",
   "execution_count": 7,
   "metadata": {},
   "outputs": [
    {
     "name": "stdout",
     "output_type": "stream",
     "text": [
      "Enter smaller number:10\n",
      "Enter greatest number:20\n",
      "11 is prime in range\n"
     ]
    }
   ],
   "source": [
    "#for else statement\n",
    "a=int(input(\"Enter smaller number:\"))\n",
    "b=int(input(\"Enter greatest number:\"))\n",
    "s=range(a,b)\n",
    "for x in s:\n",
    "    for num in range (2,x):\n",
    "        if x%num==0:\n",
    "            break\n",
    "    else:\n",
    "            print(x,\"is prime in range\")\n",
    "            break"
   ]
  },
  {
   "cell_type": "code",
   "execution_count": null,
   "metadata": {},
   "outputs": [],
   "source": []
  }
 ],
 "metadata": {
  "kernelspec": {
   "display_name": "Python 3",
   "language": "python",
   "name": "python3"
  },
  "language_info": {
   "codemirror_mode": {
    "name": "ipython",
    "version": 3
   },
   "file_extension": ".py",
   "mimetype": "text/x-python",
   "name": "python",
   "nbconvert_exporter": "python",
   "pygments_lexer": "ipython3",
   "version": "3.7.3"
  }
 },
 "nbformat": 4,
 "nbformat_minor": 2
}
